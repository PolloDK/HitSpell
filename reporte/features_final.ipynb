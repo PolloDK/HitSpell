{
 "cells": [
  {
   "cell_type": "code",
   "execution_count": 1,
   "id": "3bd6ca86",
   "metadata": {},
   "outputs": [],
   "source": [
    "import pandas as pd\n",
    "import numpy as np\n",
    "import os\n",
    "from openai import OpenAI\n",
    "from dotenv import load_dotenv"
   ]
  },
  {
   "cell_type": "code",
   "execution_count": 23,
   "id": "7a322505",
   "metadata": {},
   "outputs": [],
   "source": [
    "load_dotenv()\n",
    "%matplotlib inline\n",
    "client = OpenAI(api_key = os.getenv(\"OPENAI_API_KEY\"))"
   ]
  },
  {
   "cell_type": "code",
   "execution_count": 2,
   "id": "395ca839",
   "metadata": {},
   "outputs": [],
   "source": [
    "df = pd.read_csv('features_full_final.csv')"
   ]
  },
  {
   "cell_type": "code",
   "execution_count": 25,
   "id": "aeac1bf2",
   "metadata": {},
   "outputs": [
    {
     "name": "stdout",
     "output_type": "stream",
     "text": [
      "<class 'pandas.core.frame.DataFrame'>\n",
      "RangeIndex: 111956 entries, 0 to 111955\n",
      "Data columns (total 82 columns):\n",
      " #   Column                               Non-Null Count   Dtype  \n",
      "---  ------                               --------------   -----  \n",
      " 0   mbid                                 111956 non-null  object \n",
      " 1   title                                111956 non-null  object \n",
      " 2   artist                               111952 non-null  object \n",
      " 3   genre                                111956 non-null  object \n",
      " 4   year                                 111956 non-null  int64  \n",
      " 5   duration_ms                          111576 non-null  float64\n",
      " 6   high_danceability_value              111753 non-null  object \n",
      " 7   high_danceability_probability        111753 non-null  float64\n",
      " 8   high_gender_value                    111753 non-null  object \n",
      " 9   high_gender_probability              111753 non-null  float64\n",
      " 10  high_genre_dortmund_value            111753 non-null  object \n",
      " 11  high_genre_dortmund_probability      111753 non-null  float64\n",
      " 12  high_genre_electronic_value          111753 non-null  object \n",
      " 13  high_genre_electronic_probability    111753 non-null  float64\n",
      " 14  high_genre_rosamerica_value          111753 non-null  object \n",
      " 15  high_genre_rosamerica_probability    111753 non-null  float64\n",
      " 16  high_genre_tzanetakis_value          111753 non-null  object \n",
      " 17  high_genre_tzanetakis_probability    111753 non-null  float64\n",
      " 18  high_ismir04_rhythm_value            111753 non-null  object \n",
      " 19  high_ismir04_rhythm_probability      111753 non-null  float64\n",
      " 20  high_mood_acoustic_value             111753 non-null  object \n",
      " 21  high_mood_acoustic_probability       111753 non-null  float64\n",
      " 22  high_mood_aggressive_value           111753 non-null  object \n",
      " 23  high_mood_aggressive_probability     111753 non-null  float64\n",
      " 24  high_mood_electronic_value           111753 non-null  object \n",
      " 25  high_mood_electronic_probability     111753 non-null  float64\n",
      " 26  high_mood_happy_value                111753 non-null  object \n",
      " 27  high_mood_happy_probability          111753 non-null  float64\n",
      " 28  high_mood_party_value                111753 non-null  object \n",
      " 29  high_mood_party_probability          111753 non-null  float64\n",
      " 30  high_mood_relaxed_value              111753 non-null  object \n",
      " 31  high_mood_relaxed_probability        111753 non-null  float64\n",
      " 32  high_mood_sad_value                  111753 non-null  object \n",
      " 33  high_mood_sad_probability            111753 non-null  float64\n",
      " 34  high_moods_mirex_value               111753 non-null  object \n",
      " 35  high_moods_mirex_probability         111753 non-null  float64\n",
      " 36  high_timbre_value                    111753 non-null  object \n",
      " 37  high_timbre_probability              111753 non-null  float64\n",
      " 38  high_tonal_atonal_value              111753 non-null  object \n",
      " 39  high_tonal_atonal_probability        111753 non-null  float64\n",
      " 40  high_voice_instrumental_value        111753 non-null  object \n",
      " 41  high_voice_instrumental_probability  111753 non-null  float64\n",
      " 42  low_average_loudness                 111956 non-null  float64\n",
      " 43  low_dynamic_complexity               111956 non-null  float64\n",
      " 44  low_mfcc_mean_0                      111956 non-null  float64\n",
      " 45  low_mfcc_mean_1                      111956 non-null  float64\n",
      " 46  low_mfcc_mean_2                      111956 non-null  float64\n",
      " 47  low_mfcc_mean_3                      111956 non-null  float64\n",
      " 48  low_mfcc_mean_4                      111956 non-null  float64\n",
      " 49  low_mfcc_mean_5                      111956 non-null  float64\n",
      " 50  low_mfcc_mean_6                      111956 non-null  float64\n",
      " 51  low_mfcc_mean_7                      111956 non-null  float64\n",
      " 52  low_mfcc_mean_8                      111956 non-null  float64\n",
      " 53  low_mfcc_mean_9                      111956 non-null  float64\n",
      " 54  low_mfcc_mean_10                     111956 non-null  float64\n",
      " 55  low_mfcc_mean_11                     111956 non-null  float64\n",
      " 56  low_mfcc_mean_12                     111956 non-null  float64\n",
      " 57  audio_sample_rate                    107424 non-null  float64\n",
      " 58  audio_codec                          111956 non-null  object \n",
      " 59  audio_bit_rate                       111956 non-null  int64  \n",
      " 60  audio_equal_loudness                 111900 non-null  float64\n",
      " 61  audio_analysis_sample_rate           111900 non-null  float64\n",
      " 62  audio_length                         111956 non-null  float64\n",
      " 63  audio_md5_encoded                    111956 non-null  object \n",
      " 64  audio_replay_gain                    111956 non-null  float64\n",
      " 65  audio_downmix                        111900 non-null  object \n",
      " 66  audio_lossless                       111956 non-null  bool   \n",
      " 67  low_key_key                          111899 non-null  object \n",
      " 68  low_key_scale                        111899 non-null  object \n",
      " 69  low_key_strength                     111899 non-null  float64\n",
      " 70  low_chords_scale                     111955 non-null  object \n",
      " 71  low_chords_changes_rate              111955 non-null  float64\n",
      " 72  low_chords_key                       111955 non-null  object \n",
      " 73  low_chords_number_rate               111955 non-null  float64\n",
      " 74  low_tuning_nontempered_energy_ratio  111955 non-null  float64\n",
      " 75  low_tuning_frequency                 111955 non-null  float64\n",
      " 76  low_tuning_diatonic_strength         111955 non-null  float64\n",
      " 77  low_tuning_equal_tempered_deviation  111955 non-null  float64\n",
      " 78  low_danceability                     111955 non-null  float64\n",
      " 79  low_onset_rate                       111955 non-null  float64\n",
      " 80  low_bpm                              111955 non-null  float64\n",
      " 81  low_beats_count                      111955 non-null  float64\n",
      "dtypes: bool(1), float64(50), int64(2), object(29)\n",
      "memory usage: 69.3+ MB\n"
     ]
    }
   ],
   "source": [
    "df.info()"
   ]
  },
  {
   "cell_type": "code",
   "execution_count": 26,
   "id": "27d62bb0",
   "metadata": {},
   "outputs": [
    {
     "data": {
      "text/plain": [
       "Index(['mbid', 'title', 'artist', 'genre', 'year', 'duration_ms',\n",
       "       'high_danceability_value', 'high_danceability_probability',\n",
       "       'high_gender_value', 'high_gender_probability',\n",
       "       'high_genre_dortmund_value', 'high_genre_dortmund_probability',\n",
       "       'high_genre_electronic_value', 'high_genre_electronic_probability',\n",
       "       'high_genre_rosamerica_value', 'high_genre_rosamerica_probability',\n",
       "       'high_genre_tzanetakis_value', 'high_genre_tzanetakis_probability',\n",
       "       'high_ismir04_rhythm_value', 'high_ismir04_rhythm_probability',\n",
       "       'high_mood_acoustic_value', 'high_mood_acoustic_probability',\n",
       "       'high_mood_aggressive_value', 'high_mood_aggressive_probability',\n",
       "       'high_mood_electronic_value', 'high_mood_electronic_probability',\n",
       "       'high_mood_happy_value', 'high_mood_happy_probability',\n",
       "       'high_mood_party_value', 'high_mood_party_probability',\n",
       "       'high_mood_relaxed_value', 'high_mood_relaxed_probability',\n",
       "       'high_mood_sad_value', 'high_mood_sad_probability',\n",
       "       'high_moods_mirex_value', 'high_moods_mirex_probability',\n",
       "       'high_timbre_value', 'high_timbre_probability',\n",
       "       'high_tonal_atonal_value', 'high_tonal_atonal_probability',\n",
       "       'high_voice_instrumental_value', 'high_voice_instrumental_probability',\n",
       "       'low_average_loudness', 'low_dynamic_complexity', 'low_mfcc_mean_0',\n",
       "       'low_mfcc_mean_1', 'low_mfcc_mean_2', 'low_mfcc_mean_3',\n",
       "       'low_mfcc_mean_4', 'low_mfcc_mean_5', 'low_mfcc_mean_6',\n",
       "       'low_mfcc_mean_7', 'low_mfcc_mean_8', 'low_mfcc_mean_9',\n",
       "       'low_mfcc_mean_10', 'low_mfcc_mean_11', 'low_mfcc_mean_12',\n",
       "       'audio_sample_rate', 'audio_codec', 'audio_bit_rate',\n",
       "       'audio_equal_loudness', 'audio_analysis_sample_rate', 'audio_length',\n",
       "       'audio_md5_encoded', 'audio_replay_gain', 'audio_downmix',\n",
       "       'audio_lossless', 'low_key_key', 'low_key_scale', 'low_key_strength',\n",
       "       'low_chords_scale', 'low_chords_changes_rate', 'low_chords_key',\n",
       "       'low_chords_number_rate', 'low_tuning_nontempered_energy_ratio',\n",
       "       'low_tuning_frequency', 'low_tuning_diatonic_strength',\n",
       "       'low_tuning_equal_tempered_deviation', 'low_danceability',\n",
       "       'low_onset_rate', 'low_bpm', 'low_beats_count'],\n",
       "      dtype='object')"
      ]
     },
     "execution_count": 26,
     "metadata": {},
     "output_type": "execute_result"
    }
   ],
   "source": [
    "df.columns"
   ]
  },
  {
   "cell_type": "code",
   "execution_count": 27,
   "id": "9f8d48a6",
   "metadata": {},
   "outputs": [],
   "source": [
    "def filtrar_features(df:pd.DataFrame):\n",
    "    ritmo_energia = [\n",
    "        'low_bpm', 'low_onset_rate', 'low_danceability',\n",
    "        'low_dynamic_complexity', 'low_average_loudness'\n",
    "    ]\n",
    "    tonalidad = [\n",
    "        'low_key_strength', 'low_chords_changes_rate', 'low_chords_number_rate'\n",
    "    ]\n",
    "    mfccs = [f'low_mfcc_mean_{i}' for i in range(13)]\n",
    "    moods = [\n",
    "        'high_mood_acoustic_probability',\n",
    "        'high_mood_aggressive_probability',\n",
    "        'high_mood_electronic_probability',\n",
    "        'high_mood_happy_probability',\n",
    "        'high_mood_party_probability',\n",
    "        'high_mood_relaxed_probability',\n",
    "        'high_mood_sad_probability'\n",
    "    ]\n",
    "    columnas = ['genre'] + ritmo_energia + tonalidad + mfccs + moods\n",
    "    return df[columnas].copy()"
   ]
  },
  {
   "cell_type": "code",
   "execution_count": 28,
   "id": "b58428a8",
   "metadata": {},
   "outputs": [],
   "source": [
    "datos = filtrar_features(df)"
   ]
  },
  {
   "cell_type": "code",
   "execution_count": 29,
   "id": "6ff0b07e",
   "metadata": {},
   "outputs": [
    {
     "data": {
      "text/plain": [
       "(111956, 29)"
      ]
     },
     "execution_count": 29,
     "metadata": {},
     "output_type": "execute_result"
    }
   ],
   "source": [
    "datos.shape"
   ]
  },
  {
   "cell_type": "code",
   "execution_count": 30,
   "id": "90ecbd45",
   "metadata": {},
   "outputs": [
    {
     "name": "stdout",
     "output_type": "stream",
     "text": [
      "<class 'pandas.core.frame.DataFrame'>\n",
      "RangeIndex: 111956 entries, 0 to 111955\n",
      "Data columns (total 29 columns):\n",
      " #   Column                            Non-Null Count   Dtype  \n",
      "---  ------                            --------------   -----  \n",
      " 0   genre                             111956 non-null  object \n",
      " 1   low_bpm                           111955 non-null  float64\n",
      " 2   low_onset_rate                    111955 non-null  float64\n",
      " 3   low_danceability                  111955 non-null  float64\n",
      " 4   low_dynamic_complexity            111956 non-null  float64\n",
      " 5   low_average_loudness              111956 non-null  float64\n",
      " 6   low_key_strength                  111899 non-null  float64\n",
      " 7   low_chords_changes_rate           111955 non-null  float64\n",
      " 8   low_chords_number_rate            111955 non-null  float64\n",
      " 9   low_mfcc_mean_0                   111956 non-null  float64\n",
      " 10  low_mfcc_mean_1                   111956 non-null  float64\n",
      " 11  low_mfcc_mean_2                   111956 non-null  float64\n",
      " 12  low_mfcc_mean_3                   111956 non-null  float64\n",
      " 13  low_mfcc_mean_4                   111956 non-null  float64\n",
      " 14  low_mfcc_mean_5                   111956 non-null  float64\n",
      " 15  low_mfcc_mean_6                   111956 non-null  float64\n",
      " 16  low_mfcc_mean_7                   111956 non-null  float64\n",
      " 17  low_mfcc_mean_8                   111956 non-null  float64\n",
      " 18  low_mfcc_mean_9                   111956 non-null  float64\n",
      " 19  low_mfcc_mean_10                  111956 non-null  float64\n",
      " 20  low_mfcc_mean_11                  111956 non-null  float64\n",
      " 21  low_mfcc_mean_12                  111956 non-null  float64\n",
      " 22  high_mood_acoustic_probability    111753 non-null  float64\n",
      " 23  high_mood_aggressive_probability  111753 non-null  float64\n",
      " 24  high_mood_electronic_probability  111753 non-null  float64\n",
      " 25  high_mood_happy_probability       111753 non-null  float64\n",
      " 26  high_mood_party_probability       111753 non-null  float64\n",
      " 27  high_mood_relaxed_probability     111753 non-null  float64\n",
      " 28  high_mood_sad_probability         111753 non-null  float64\n",
      "dtypes: float64(28), object(1)\n",
      "memory usage: 24.8+ MB\n"
     ]
    }
   ],
   "source": [
    "datos.info()"
   ]
  },
  {
   "cell_type": "code",
   "execution_count": 31,
   "id": "a2290f70",
   "metadata": {},
   "outputs": [
    {
     "data": {
      "text/plain": [
       "(111752, 29)"
      ]
     },
     "execution_count": 31,
     "metadata": {},
     "output_type": "execute_result"
    }
   ],
   "source": [
    "datos.dropna(inplace=True)\n",
    "datos.shape"
   ]
  },
  {
   "cell_type": "code",
   "execution_count": 32,
   "id": "dfb0c2d6",
   "metadata": {},
   "outputs": [],
   "source": [
    "def promedio_genero(df_filtrado, genero):\n",
    "    return df_filtrado[df_filtrado['genre'] == genero].mean(numeric_only=True)"
   ]
  },
  {
   "cell_type": "code",
   "execution_count": 33,
   "id": "c6056975",
   "metadata": {},
   "outputs": [
    {
     "data": {
      "text/plain": [
       "low_bpm                             126.046423\n",
       "low_onset_rate                        3.222548\n",
       "low_danceability                      1.117270\n",
       "low_dynamic_complexity                3.838504\n",
       "low_average_loudness                  0.799274\n",
       "low_key_strength                      0.706085\n",
       "low_chords_changes_rate               0.062181\n",
       "low_chords_number_rate                0.002559\n",
       "low_mfcc_mean_0                    -669.521063\n",
       "low_mfcc_mean_1                     131.665669\n",
       "low_mfcc_mean_2                      -2.986507\n",
       "low_mfcc_mean_3                      25.324911\n",
       "low_mfcc_mean_4                       4.910339\n",
       "low_mfcc_mean_5                       5.981352\n",
       "low_mfcc_mean_6                       0.229045\n",
       "low_mfcc_mean_7                       3.361125\n",
       "low_mfcc_mean_8                      -0.777716\n",
       "low_mfcc_mean_9                       1.304612\n",
       "low_mfcc_mean_10                     -1.822891\n",
       "low_mfcc_mean_11                     -0.659284\n",
       "low_mfcc_mean_12                     -1.810811\n",
       "high_mood_acoustic_probability        0.876070\n",
       "high_mood_aggressive_probability      0.885548\n",
       "high_mood_electronic_probability      0.769102\n",
       "high_mood_happy_probability           0.758487\n",
       "high_mood_party_probability           0.794144\n",
       "high_mood_relaxed_probability         0.821439\n",
       "high_mood_sad_probability             0.754599\n",
       "dtype: float64"
      ]
     },
     "execution_count": 33,
     "metadata": {},
     "output_type": "execute_result"
    }
   ],
   "source": [
    "promedio_genero(datos, 'rock')"
   ]
  },
  {
   "cell_type": "code",
   "execution_count": 34,
   "id": "e619414b",
   "metadata": {},
   "outputs": [],
   "source": [
    "def comparar_cancion_con_promedio(nueva_cancion:pd.Series, promedio_genero:pd.Series) -> dict:\n",
    "    nueva_cancion.drop(['genre'], inplace=True)\n",
    "    diferencias = {}\n",
    "    for feature in nueva_cancion.index:\n",
    "        valor_actual = nueva_cancion[feature]\n",
    "        valor_referencia = promedio_genero[feature]\n",
    "        diferencias[feature] = round(float(valor_actual-valor_referencia),3)\n",
    "    return diferencias"
   ]
  },
  {
   "cell_type": "code",
   "execution_count": 35,
   "id": "3056a68f",
   "metadata": {},
   "outputs": [],
   "source": [
    "nueva_cancion = filtrar_features(df.iloc[123])"
   ]
  },
  {
   "cell_type": "code",
   "execution_count": 36,
   "id": "8cfe678d",
   "metadata": {},
   "outputs": [
    {
     "data": {
      "text/plain": [
       "'rock'"
      ]
     },
     "execution_count": 36,
     "metadata": {},
     "output_type": "execute_result"
    }
   ],
   "source": [
    "genero = nueva_cancion['genre']\n",
    "genero"
   ]
  },
  {
   "cell_type": "code",
   "execution_count": 37,
   "id": "0230d098",
   "metadata": {},
   "outputs": [],
   "source": [
    "promedios = promedio_genero(datos, nueva_cancion['genre'])"
   ]
  },
  {
   "cell_type": "code",
   "execution_count": 38,
   "id": "f68fca9a",
   "metadata": {},
   "outputs": [],
   "source": [
    "diferencias = comparar_cancion_con_promedio(nueva_cancion,promedios)"
   ]
  },
  {
   "cell_type": "code",
   "execution_count": 39,
   "id": "2dd39ebb",
   "metadata": {},
   "outputs": [
    {
     "data": {
      "text/plain": [
       "{'low_bpm': -14.189,\n",
       " 'low_onset_rate': -0.152,\n",
       " 'low_danceability': 0.064,\n",
       " 'low_dynamic_complexity': 0.085,\n",
       " 'low_average_loudness': 0.124,\n",
       " 'low_key_strength': 0.042,\n",
       " 'low_chords_changes_rate': 0.004,\n",
       " 'low_chords_number_rate': -0.0,\n",
       " 'low_mfcc_mean_0': 1.02,\n",
       " 'low_mfcc_mean_1': -24.764,\n",
       " 'low_mfcc_mean_2': 23.814,\n",
       " 'low_mfcc_mean_3': 7.773,\n",
       " 'low_mfcc_mean_4': 8.52,\n",
       " 'low_mfcc_mean_5': 1.696,\n",
       " 'low_mfcc_mean_6': 3.59,\n",
       " 'low_mfcc_mean_7': -3.046,\n",
       " 'low_mfcc_mean_8': 0.01,\n",
       " 'low_mfcc_mean_9': 0.331,\n",
       " 'low_mfcc_mean_10': -5.199,\n",
       " 'low_mfcc_mean_11': -0.682,\n",
       " 'low_mfcc_mean_12': -3.176,\n",
       " 'high_mood_acoustic_probability': 0.002,\n",
       " 'high_mood_aggressive_probability': 0.108,\n",
       " 'high_mood_electronic_probability': -0.177,\n",
       " 'high_mood_happy_probability': -0.205,\n",
       " 'high_mood_party_probability': -0.031,\n",
       " 'high_mood_relaxed_probability': -0.252,\n",
       " 'high_mood_sad_probability': -0.11}"
      ]
     },
     "execution_count": 39,
     "metadata": {},
     "output_type": "execute_result"
    }
   ],
   "source": [
    "diferencias"
   ]
  },
  {
   "cell_type": "code",
   "execution_count": 40,
   "id": "7cb35a6e",
   "metadata": {},
   "outputs": [],
   "source": [
    "def generar_prompt(genero, diferencias, nueva_cancion, promedio_genero, porcentaje_umbral=0.05):\n",
    "    sugerencias = []\n",
    "\n",
    "    for feature, diferencia in diferencias.items():\n",
    "        val_actual = nueva_cancion[feature]\n",
    "        val_prom = promedio_genero[feature]\n",
    "\n",
    "        umbral = abs(val_prom * porcentaje_umbral) if val_prom != 0 else porcentaje_umbral\n",
    "\n",
    "        if abs(diferencia) > umbral:\n",
    "            if diferencia < 0:\n",
    "                sugerencias.append(\n",
    "                    f\"- '{feature}': el valor actual es {val_actual:.2f}, mientras que el promedio del género es {val_prom:.2f}. Está por debajo del promedio; podrías intentar incrementarlo.\")\n",
    "            else:\n",
    "                sugerencias.append(\n",
    "                    f\"- '{feature}': el valor actual es {val_actual:.2f}, mientras que el promedio del género es {val_prom:.2f}. Está por encima del promedio; podrías ajustarlo.\")\n",
    "\n",
    "    if not sugerencias:\n",
    "        sugerencias.append(\"Los valores están bastante alineados con el promedio del género.\")\n",
    "\n",
    "    prompt = f\"Tengo una canción del género {genero}. Estas son las diferencias respecto al promedio de las canciones más populares del mismo género:\\n\\n\"\n",
    "    prompt += \"\\n\".join(sugerencias)\n",
    "    prompt += \"\\n\\nDame recomendaciones musicales para mejorar esta canción\"\n",
    "    prompt += \"\\nLos nombres de las features vienen en inglés, pero la respuesta debe ser todo en castellano.\"\n",
    "\n",
    "    return prompt"
   ]
  },
  {
   "cell_type": "code",
   "execution_count": 41,
   "id": "d669f425",
   "metadata": {},
   "outputs": [],
   "source": [
    "promt = generar_prompt(genero, diferencias, nueva_cancion, promedios)"
   ]
  },
  {
   "cell_type": "code",
   "execution_count": 42,
   "id": "b6a484b9",
   "metadata": {},
   "outputs": [
    {
     "name": "stdout",
     "output_type": "stream",
     "text": [
      "Tengo una canción del género rock. Estas son las diferencias respecto al promedio de las canciones más populares del mismo género:\n",
      "\n",
      "- 'low_bpm': el valor actual es 111.86, mientras que el promedio del género es 126.05. Está por debajo del promedio; podrías intentar incrementarlo.\n",
      "- 'low_danceability': el valor actual es 1.18, mientras que el promedio del género es 1.12. Está por encima del promedio; podrías ajustarlo.\n",
      "- 'low_average_loudness': el valor actual es 0.92, mientras que el promedio del género es 0.80. Está por encima del promedio; podrías ajustarlo.\n",
      "- 'low_key_strength': el valor actual es 0.75, mientras que el promedio del género es 0.71. Está por encima del promedio; podrías ajustarlo.\n",
      "- 'low_chords_changes_rate': el valor actual es 0.07, mientras que el promedio del género es 0.06. Está por encima del promedio; podrías ajustarlo.\n",
      "- 'low_mfcc_mean_1': el valor actual es 106.90, mientras que el promedio del género es 131.67. Está por debajo del promedio; podrías intentar incrementarlo.\n",
      "- 'low_mfcc_mean_2': el valor actual es 20.83, mientras que el promedio del género es -2.99. Está por encima del promedio; podrías ajustarlo.\n",
      "- 'low_mfcc_mean_3': el valor actual es 33.10, mientras que el promedio del género es 25.32. Está por encima del promedio; podrías ajustarlo.\n",
      "- 'low_mfcc_mean_4': el valor actual es 13.43, mientras que el promedio del género es 4.91. Está por encima del promedio; podrías ajustarlo.\n",
      "- 'low_mfcc_mean_5': el valor actual es 7.68, mientras que el promedio del género es 5.98. Está por encima del promedio; podrías ajustarlo.\n",
      "- 'low_mfcc_mean_6': el valor actual es 3.82, mientras que el promedio del género es 0.23. Está por encima del promedio; podrías ajustarlo.\n",
      "- 'low_mfcc_mean_7': el valor actual es 0.32, mientras que el promedio del género es 3.36. Está por debajo del promedio; podrías intentar incrementarlo.\n",
      "- 'low_mfcc_mean_9': el valor actual es 1.64, mientras que el promedio del género es 1.30. Está por encima del promedio; podrías ajustarlo.\n",
      "- 'low_mfcc_mean_10': el valor actual es -7.02, mientras que el promedio del género es -1.82. Está por debajo del promedio; podrías intentar incrementarlo.\n",
      "- 'low_mfcc_mean_11': el valor actual es -1.34, mientras que el promedio del género es -0.66. Está por debajo del promedio; podrías intentar incrementarlo.\n",
      "- 'low_mfcc_mean_12': el valor actual es -4.99, mientras que el promedio del género es -1.81. Está por debajo del promedio; podrías intentar incrementarlo.\n",
      "- 'high_mood_aggressive_probability': el valor actual es 0.99, mientras que el promedio del género es 0.89. Está por encima del promedio; podrías ajustarlo.\n",
      "- 'high_mood_electronic_probability': el valor actual es 0.59, mientras que el promedio del género es 0.77. Está por debajo del promedio; podrías intentar incrementarlo.\n",
      "- 'high_mood_happy_probability': el valor actual es 0.55, mientras que el promedio del género es 0.76. Está por debajo del promedio; podrías intentar incrementarlo.\n",
      "- 'high_mood_relaxed_probability': el valor actual es 0.57, mientras que el promedio del género es 0.82. Está por debajo del promedio; podrías intentar incrementarlo.\n",
      "- 'high_mood_sad_probability': el valor actual es 0.64, mientras que el promedio del género es 0.75. Está por debajo del promedio; podrías intentar incrementarlo.\n",
      "\n",
      "Dame recomendaciones musicales para mejorar esta canción\n",
      "Los nombres de las features vienen en inglés, pero la respuesta debe ser todo en castellano.\n"
     ]
    }
   ],
   "source": [
    "print(promt)"
   ]
  },
  {
   "cell_type": "code",
   "execution_count": 43,
   "id": "3b2cd075",
   "metadata": {},
   "outputs": [],
   "source": [
    "def obtener_recomendacion(prompt):\n",
    "    response = client.chat.completions.create(\n",
    "        model='gpt-4.1-mini',\n",
    "        messages=[\n",
    "            {\"role\": \"system\", \"content\": \"Eres una app de música que brinda consejos claros y útiles sobre cómo mejorar una canción según sus características.\"},\n",
    "            {\"role\": \"user\", \"content\": prompt}\n",
    "        ],\n",
    "        temperature=0.7,\n",
    "        max_tokens=1000\n",
    "    )\n",
    "    return response.choices[0].message.content"
   ]
  },
  {
   "cell_type": "code",
   "execution_count": 44,
   "id": "c4edc0a2",
   "metadata": {},
   "outputs": [
    {
     "name": "stdout",
     "output_type": "stream",
     "text": [
      "Tiempo de ejecución: 7.91 segundos\n"
     ]
    }
   ],
   "source": [
    "import time\n",
    "\n",
    "inicio = time.time()\n",
    "recomendacion = obtener_recomendacion(promt)\n",
    "fin = time.time()\n",
    "\n",
    "print(f\"Tiempo de ejecución: {fin - inicio:.2f} segundos\")"
   ]
  },
  {
   "cell_type": "code",
   "execution_count": 45,
   "id": "c9ced937",
   "metadata": {},
   "outputs": [
    {
     "name": "stdout",
     "output_type": "stream",
     "text": [
      "Para mejorar tu canción de rock y acercarla más a las características de las canciones más populares del género, te recomiendo lo siguiente:\n",
      "\n",
      "1. Aumenta el tempo (BPM): Actualmente está en 111.86, mientras que el promedio es 126.05. Incrementar el tempo le dará más energía y dinamismo.\n",
      "\n",
      "2. Ajusta la capacidad de baile (danceability): Está un poco por encima del promedio. Podrías buscar un balance para que la canción mantenga un buen groove sin perder la esencia rockera.\n",
      "\n",
      "3. Modera la sonoridad promedio (loudness): Está ligeramente más alta que el promedio. Reducir un poco el volumen general puede ayudar a evitar saturación y mejorar la claridad.\n",
      "\n",
      "4. Ajusta la fuerza de la tonalidad (key strength): Al estar por encima del promedio, podrías suavizar la estabilidad tonal para que sea más atractiva y menos predecible.\n",
      "\n",
      "5. Reduce un poco la tasa de cambios de acordes (chords changes rate): Está un poco más alta que la media. Considera simplificar algunos cambios para mejorar la coherencia melódica.\n",
      "\n",
      "6. Incrementa algunas características de los coeficientes cepstrales (MFCC mean 1 y 7, 10, 11, 12): Estos valores están por debajo del promedio y su aumento puede aportar una mejor textura y riqueza sonora.\n",
      "\n",
      "7. Ajusta otros coeficientes MFCC que están por encima del promedio para equilibrar el espectro sonoro y evitar que ciertos elementos destaquen demasiado.\n",
      "\n",
      "8. Modera la probabilidad de mood agresivo: Está muy alta, reducirla un poco puede hacer la canción más accesible sin perder fuerza.\n",
      "\n",
      "9. Incrementa la probabilidad de mood electrónico, feliz, relajado y triste: Estos valores están por debajo del promedio. Añadir elementos que transmitan estas emociones puede hacer la canción más rica en matices y atractiva para un público más amplio.\n",
      "\n",
      "En resumen, aumenta el tempo, equilibra la energía y dinámica, ajusta la textura sonora con los MFCC, y trabaja en una paleta emocional más variada para acercarte al perfil de las canciones de rock más populares.\n"
     ]
    }
   ],
   "source": [
    "print(recomendacion)"
   ]
  },
  {
   "cell_type": "code",
   "execution_count": 46,
   "id": "fb4c3c47",
   "metadata": {},
   "outputs": [
    {
     "data": {
      "text/plain": [
       "0         0.741577\n",
       "1         0.549704\n",
       "2         0.862171\n",
       "3         0.595985\n",
       "4         0.903194\n",
       "            ...   \n",
       "111951    0.773452\n",
       "111952    0.904865\n",
       "111953    0.965314\n",
       "111954    0.776017\n",
       "111955    0.769704\n",
       "Name: high_danceability_probability, Length: 111956, dtype: float64"
      ]
     },
     "execution_count": 46,
     "metadata": {},
     "output_type": "execute_result"
    }
   ],
   "source": [
    "df['high_danceability_probability']"
   ]
  },
  {
   "cell_type": "code",
   "execution_count": null,
   "id": "165d9f3c",
   "metadata": {},
   "outputs": [],
   "source": [
    "from api_reporte.recomendaciones import filtrar_features"
   ]
  },
  {
   "cell_type": "code",
   "execution_count": 4,
   "id": "0cfe7bc2",
   "metadata": {},
   "outputs": [
    {
     "data": {
      "text/plain": [
       "(111956, 82)"
      ]
     },
     "execution_count": 4,
     "metadata": {},
     "output_type": "execute_result"
    }
   ],
   "source": [
    "df.shape"
   ]
  },
  {
   "cell_type": "code",
   "execution_count": 5,
   "id": "9238e5c3",
   "metadata": {},
   "outputs": [
    {
     "data": {
      "text/plain": [
       "(111752, 28)"
      ]
     },
     "execution_count": 5,
     "metadata": {},
     "output_type": "execute_result"
    }
   ],
   "source": [
    "df = filtrar_features(df)\n",
    "df.dropna(inplace=True)\n",
    "df.shape"
   ]
  },
  {
   "cell_type": "code",
   "execution_count": 6,
   "id": "f335f36a",
   "metadata": {},
   "outputs": [
    {
     "name": "stdout",
     "output_type": "stream",
     "text": [
      "<class 'pandas.core.frame.DataFrame'>\n",
      "Index: 111752 entries, 0 to 111955\n",
      "Data columns (total 28 columns):\n",
      " #   Column                            Non-Null Count   Dtype  \n",
      "---  ------                            --------------   -----  \n",
      " 0   genre                             111752 non-null  object \n",
      " 1   low_bpm                           111752 non-null  float64\n",
      " 2   low_onset_rate                    111752 non-null  float64\n",
      " 3   low_danceability                  111752 non-null  float64\n",
      " 4   low_dynamic_complexity            111752 non-null  float64\n",
      " 5   low_average_loudness              111752 non-null  float64\n",
      " 6   high_danceability_probability     111752 non-null  float64\n",
      " 7   low_key_strength                  111752 non-null  float64\n",
      " 8   low_chords_changes_rate           111752 non-null  float64\n",
      " 9   low_mfcc_mean_0                   111752 non-null  float64\n",
      " 10  low_mfcc_mean_1                   111752 non-null  float64\n",
      " 11  low_mfcc_mean_2                   111752 non-null  float64\n",
      " 12  low_mfcc_mean_3                   111752 non-null  float64\n",
      " 13  low_mfcc_mean_4                   111752 non-null  float64\n",
      " 14  low_mfcc_mean_5                   111752 non-null  float64\n",
      " 15  low_mfcc_mean_6                   111752 non-null  float64\n",
      " 16  low_mfcc_mean_7                   111752 non-null  float64\n",
      " 17  low_mfcc_mean_8                   111752 non-null  float64\n",
      " 18  low_mfcc_mean_9                   111752 non-null  float64\n",
      " 19  low_mfcc_mean_10                  111752 non-null  float64\n",
      " 20  low_mfcc_mean_11                  111752 non-null  float64\n",
      " 21  low_mfcc_mean_12                  111752 non-null  float64\n",
      " 22  high_mood_acoustic_probability    111752 non-null  float64\n",
      " 23  high_mood_aggressive_probability  111752 non-null  float64\n",
      " 24  high_mood_happy_probability       111752 non-null  float64\n",
      " 25  high_mood_party_probability       111752 non-null  float64\n",
      " 26  high_mood_relaxed_probability     111752 non-null  float64\n",
      " 27  high_mood_sad_probability         111752 non-null  float64\n",
      "dtypes: float64(27), object(1)\n",
      "memory usage: 24.7+ MB\n"
     ]
    }
   ],
   "source": [
    "df.info()"
   ]
  },
  {
   "cell_type": "code",
   "execution_count": 51,
   "id": "f333fa1e",
   "metadata": {},
   "outputs": [],
   "source": [
    "df = df.groupby('genre').mean(numeric_only=True).reset_index()"
   ]
  },
  {
   "cell_type": "code",
   "execution_count": 52,
   "id": "dc1615d9",
   "metadata": {},
   "outputs": [],
   "source": [
    "df.to_csv('promedio_features.csv', index=False)"
   ]
  },
  {
   "cell_type": "code",
   "execution_count": 11,
   "id": "d370db7c",
   "metadata": {},
   "outputs": [
    {
     "data": {
      "text/plain": [
       "{'recomendacion': {'mbid': 'f15c6cb7-6000-4b98-99dc-6a69987371e3',\n",
       "  'title': 'CMOS Therapy',\n",
       "  'artist': 'Deepchord',\n",
       "  'genre': 'electronic',\n",
       "  'year': 2015,\n",
       "  'duration_ms': 436000.0,\n",
       "  'high_danceability_value': 'danceable',\n",
       "  'high_danceability_probability': 0.999988913536,\n",
       "  'high_gender_value': 'female',\n",
       "  'high_gender_probability': 0.572697758675,\n",
       "  'high_genre_dortmund_value': 'electronic',\n",
       "  'high_genre_dortmund_probability': 0.999999344349,\n",
       "  'high_genre_electronic_value': 'techno',\n",
       "  'high_genre_electronic_probability': 0.723772108555,\n",
       "  'high_genre_rosamerica_value': 'rhy',\n",
       "  'high_genre_rosamerica_probability': 0.562672436237,\n",
       "  'high_genre_tzanetakis_value': 'jaz',\n",
       "  'high_genre_tzanetakis_probability': 0.315071135759,\n",
       "  'high_ismir04_rhythm_value': 'VienneseWaltz',\n",
       "  'high_ismir04_rhythm_probability': 0.496150821447,\n",
       "  'high_mood_acoustic_value': 'not_acoustic',\n",
       "  'high_mood_acoustic_probability': 0.999982893467,\n",
       "  'high_mood_aggressive_value': 'aggressive',\n",
       "  'high_mood_aggressive_probability': 0.582353591919,\n",
       "  'high_mood_electronic_value': 'electronic',\n",
       "  'high_mood_electronic_probability': 0.9933167696,\n",
       "  'high_mood_happy_value': 'not_happy',\n",
       "  'high_mood_happy_probability': 0.980441689491,\n",
       "  'high_mood_party_value': 'not_party',\n",
       "  'high_mood_party_probability': 0.768068492413,\n",
       "  'high_mood_relaxed_value': 'relaxed',\n",
       "  'high_mood_relaxed_probability': 0.770333349705,\n",
       "  'high_mood_sad_value': 'not_sad',\n",
       "  'high_mood_sad_probability': 0.64887803793,\n",
       "  'high_moods_mirex_value': 'Cluster5',\n",
       "  'high_moods_mirex_probability': 0.543389201164,\n",
       "  'high_timbre_value': 'dark',\n",
       "  'high_timbre_probability': 0.820277810097,\n",
       "  'high_tonal_atonal_value': 'atonal',\n",
       "  'high_tonal_atonal_probability': 0.966278672218,\n",
       "  'high_voice_instrumental_value': 'instrumental',\n",
       "  'high_voice_instrumental_probability': 1.0,\n",
       "  'low_average_loudness': 0.981780529022,\n",
       "  'low_dynamic_complexity': 3.41127467155,\n",
       "  'low_mfcc_mean_0': -786.988464355,\n",
       "  'low_mfcc_mean_1': 201.343261719,\n",
       "  'low_mfcc_mean_2': 39.7281227112,\n",
       "  'low_mfcc_mean_3': 31.9786834717,\n",
       "  'low_mfcc_mean_4': 21.5327014923,\n",
       "  'low_mfcc_mean_5': 25.174331665,\n",
       "  'low_mfcc_mean_6': 9.19140434265,\n",
       "  'low_mfcc_mean_7': 8.0521364212,\n",
       "  'low_mfcc_mean_8': -2.85367083549,\n",
       "  'low_mfcc_mean_9': 1.56891906261,\n",
       "  'low_mfcc_mean_10': -1.93901002407,\n",
       "  'low_mfcc_mean_11': 0.0332767032087,\n",
       "  'low_mfcc_mean_12': 4.50157499313,\n",
       "  'audio_sample_rate': 44100.0,\n",
       "  'audio_codec': 'flac',\n",
       "  'audio_bit_rate': 0,\n",
       "  'audio_equal_loudness': 0.0,\n",
       "  'audio_analysis_sample_rate': 44100.0,\n",
       "  'audio_length': 435.946655273,\n",
       "  'audio_md5_encoded': '0e6f6493257d8afb5174b5dbf6d16876',\n",
       "  'audio_replay_gain': -10.4714279175,\n",
       "  'audio_downmix': 'mix',\n",
       "  'audio_lossless': True,\n",
       "  'low_key_key': 'B',\n",
       "  'low_key_scale': 'minor',\n",
       "  'low_key_strength': 0.514163315296,\n",
       "  'low_chords_scale': 'minor',\n",
       "  'low_chords_changes_rate': 0.0322718061507,\n",
       "  'low_chords_key': 'A#',\n",
       "  'low_chords_number_rate': 0.000532538047992,\n",
       "  'low_tuning_nontempered_energy_ratio': 0.978568732738,\n",
       "  'low_tuning_frequency': 455.516601563,\n",
       "  'low_tuning_diatonic_strength': 0.462849080563,\n",
       "  'low_tuning_equal_tempered_deviation': 0.349226295948,\n",
       "  'low_danceability': 2.9367146492,\n",
       "  'low_onset_rate': 4.50493574142,\n",
       "  'low_bpm': 126.04447937,\n",
       "  'low_beats_count': 915.0}}"
      ]
     },
     "execution_count": 11,
     "metadata": {},
     "output_type": "execute_result"
    }
   ],
   "source": [
    "resultado.json()"
   ]
  },
  {
   "cell_type": "code",
   "execution_count": null,
   "id": "3aaaba1a",
   "metadata": {},
   "outputs": [
    {
     "data": {
      "text/plain": [
       "(20, 28)"
      ]
     },
     "execution_count": 2,
     "metadata": {},
     "output_type": "execute_result"
    }
   ],
   "source": [
    "from api_reporte.recomendaciones import *\n",
    "datos = pd.read_csv('promedio_features.csv')\n",
    "datos.shape"
   ]
  },
  {
   "cell_type": "code",
   "execution_count": null,
   "id": "94c0e8a5",
   "metadata": {},
   "outputs": [],
   "source": [
    "from api_reporte.api_recomendaciones import Cancion\n",
    "\n",
    "def brindar_recomendacion(input:Cancion):\n",
    "    datos = pd.read_csv('promedio_features.csv')\n",
    "    nueva_cancion = filtrar_features(pd.Series(input))\n",
    "    genero = obtener_genero(nueva_cancion)\n",
    "    promedio_genero_nueva_cancion = promedio_genero(datos, genero)\n",
    "    diferencias = comparar_cancion_con_promedio(nueva_cancion,promedio_genero_nueva_cancion)\n",
    "    prompt = generar_prompt(genero, diferencias, nueva_cancion, promedio_genero_nueva_cancion)\n",
    "    return prompt"
   ]
  },
  {
   "cell_type": "code",
   "execution_count": 4,
   "id": "78203bf3",
   "metadata": {},
   "outputs": [
    {
     "data": {
      "text/plain": [
       "(20, 28)"
      ]
     },
     "execution_count": 4,
     "metadata": {},
     "output_type": "execute_result"
    }
   ],
   "source": [
    "datos = filtrar_features(datos)\n",
    "datos.shape"
   ]
  },
  {
   "cell_type": "code",
   "execution_count": 5,
   "id": "e33801dd",
   "metadata": {},
   "outputs": [
    {
     "data": {
      "text/plain": [
       "82"
      ]
     },
     "execution_count": 5,
     "metadata": {},
     "output_type": "execute_result"
    }
   ],
   "source": [
    "df = pd.read_csv('features_full_final.csv').dropna()\n",
    "prueba = df.sample(n=1).squeeze().to_dict()\n",
    "len(prueba.keys())"
   ]
  },
  {
   "cell_type": "code",
   "execution_count": 11,
   "id": "6559aa72",
   "metadata": {},
   "outputs": [
    {
     "name": "stdout",
     "output_type": "stream",
     "text": [
      "Tengo una canción del género folk. Estas son las diferencias respecto al promedio de las canciones más populares del mismo género:\n",
      "\n",
      "- 'low_onset_rate': el valor actual es 4.21, mientras que el promedio del género es 3.26. Está por encima del promedio; podrías ajustarlo.\n",
      "- 'low_danceability': el valor actual es 1.23, mientras que el promedio del género es 1.07. Está por encima del promedio; podrías ajustarlo.\n",
      "- 'low_dynamic_complexity': el valor actual es 3.30, mientras que el promedio del género es 4.73. Está por debajo del promedio; podrías intentar incrementarlo.\n",
      "- 'low_average_loudness': el valor actual es 0.93, mientras que el promedio del género es 0.68. Está por encima del promedio; podrías ajustarlo.\n",
      "- 'high_danceability_probability': el valor actual es 0.98, mientras que el promedio del género es 0.87. Está por encima del promedio; podrías ajustarlo.\n",
      "- 'low_key_strength': el valor actual es 0.82, mientras que el promedio del género es 0.75. Está por encima del promedio; podrías ajustarlo.\n",
      "- 'low_chords_changes_rate': el valor actual es 0.03, mientras que el promedio del género es 0.05. Está por debajo del promedio; podrías intentar incrementarlo.\n",
      "- 'low_mfcc_mean_0': el valor actual es -627.87, mientras que el promedio del género es -715.74. Está por encima del promedio; podrías ajustarlo.\n",
      "- 'low_mfcc_mean_1': el valor actual es 106.99, mientras que el promedio del género es 148.73. Está por debajo del promedio; podrías intentar incrementarlo.\n",
      "- 'low_mfcc_mean_2': el valor actual es 13.85, mientras que el promedio del género es 5.98. Está por encima del promedio; podrías ajustarlo.\n",
      "- 'low_mfcc_mean_3': el valor actual es 29.09, mientras que el promedio del género es 19.07. Está por encima del promedio; podrías ajustarlo.\n",
      "- 'low_mfcc_mean_4': el valor actual es 14.88, mientras que el promedio del género es 2.96. Está por encima del promedio; podrías ajustarlo.\n",
      "- 'low_mfcc_mean_5': el valor actual es 9.11, mientras que el promedio del género es -0.17. Está por encima del promedio; podrías ajustarlo.\n",
      "- 'low_mfcc_mean_6': el valor actual es 0.21, mientras que el promedio del género es -2.39. Está por encima del promedio; podrías ajustarlo.\n",
      "- 'low_mfcc_mean_7': el valor actual es 6.17, mientras que el promedio del género es -0.82. Está por encima del promedio; podrías ajustarlo.\n",
      "- 'low_mfcc_mean_8': el valor actual es 1.27, mientras que el promedio del género es -4.69. Está por encima del promedio; podrías ajustarlo.\n",
      "- 'low_mfcc_mean_9': el valor actual es 0.17, mientras que el promedio del género es -1.20. Está por encima del promedio; podrías ajustarlo.\n",
      "- 'low_mfcc_mean_10': el valor actual es 0.37, mientras que el promedio del género es -4.22. Está por encima del promedio; podrías ajustarlo.\n",
      "- 'low_mfcc_mean_11': el valor actual es 1.97, mientras que el promedio del género es -2.09. Está por encima del promedio; podrías ajustarlo.\n",
      "- 'low_mfcc_mean_12': el valor actual es -1.41, mientras que el promedio del género es -2.54. Está por encima del promedio; podrías ajustarlo.\n",
      "- 'high_mood_acoustic_probability': el valor actual es 0.94, mientras que el promedio del género es 0.85. Está por encima del promedio; podrías ajustarlo.\n",
      "- 'high_mood_happy_probability': el valor actual es 0.59, mientras que el promedio del género es 0.78. Está por debajo del promedio; podrías intentar incrementarlo.\n",
      "- 'high_mood_party_probability': el valor actual es 0.64, mientras que el promedio del género es 0.86. Está por debajo del promedio; podrías intentar incrementarlo.\n",
      "- 'high_mood_relaxed_probability': el valor actual es 0.79, mientras que el promedio del género es 0.85. Está por debajo del promedio; podrías intentar incrementarlo.\n",
      "- 'high_mood_sad_probability': el valor actual es 0.85, mientras que el promedio del género es 0.72. Está por encima del promedio; podrías ajustarlo.\n",
      "\n",
      "Dame recomendaciones musicales para mejorar esta canción\n",
      "Los nombres de las features vienen en inglés, pero la respuesta debe ser todo en castellano.\n"
     ]
    }
   ],
   "source": [
    "print(brindar_recomendacion(prueba))"
   ]
  },
  {
   "cell_type": "code",
   "execution_count": 6,
   "id": "6dc8739b",
   "metadata": {},
   "outputs": [
    {
     "data": {
      "text/plain": [
       "{'mbid': '1da3beaa-c26f-4c63-a558-1790c407a984',\n",
       " 'title': 'Between Waves',\n",
       " 'artist': 'The Album Leaf',\n",
       " 'genre': 'electronic',\n",
       " 'year': 2016,\n",
       " 'duration_ms': 368694.0,\n",
       " 'high_danceability_value': 'not_danceable',\n",
       " 'high_danceability_probability': 0.862999856472,\n",
       " 'high_gender_value': 'male',\n",
       " 'high_gender_probability': 0.510834634304,\n",
       " 'high_genre_dortmund_value': 'electronic',\n",
       " 'high_genre_dortmund_probability': 0.995353221893,\n",
       " 'high_genre_electronic_value': 'ambient',\n",
       " 'high_genre_electronic_probability': 0.570509672165,\n",
       " 'high_genre_rosamerica_value': 'pop',\n",
       " 'high_genre_rosamerica_probability': 0.660472452641,\n",
       " 'high_genre_tzanetakis_value': 'jaz',\n",
       " 'high_genre_tzanetakis_probability': 0.264038801193,\n",
       " 'high_ismir04_rhythm_value': 'VienneseWaltz',\n",
       " 'high_ismir04_rhythm_probability': 0.279851645231,\n",
       " 'high_mood_acoustic_value': 'acoustic',\n",
       " 'high_mood_acoustic_probability': 0.560010373592,\n",
       " 'high_mood_aggressive_value': 'not_aggressive',\n",
       " 'high_mood_aggressive_probability': 0.99239474535,\n",
       " 'high_mood_electronic_value': 'electronic',\n",
       " 'high_mood_electronic_probability': 0.938753068447,\n",
       " 'high_mood_happy_value': 'not_happy',\n",
       " 'high_mood_happy_probability': 0.819819152355,\n",
       " 'high_mood_party_value': 'not_party',\n",
       " 'high_mood_party_probability': 0.95333635807,\n",
       " 'high_mood_relaxed_value': 'relaxed',\n",
       " 'high_mood_relaxed_probability': 0.97773039341,\n",
       " 'high_mood_sad_value': 'sad',\n",
       " 'high_mood_sad_probability': 0.574535250664,\n",
       " 'high_moods_mirex_value': 'Cluster3',\n",
       " 'high_moods_mirex_probability': 0.377466052771,\n",
       " 'high_timbre_value': 'bright',\n",
       " 'high_timbre_probability': 0.824509561062,\n",
       " 'high_tonal_atonal_value': 'atonal',\n",
       " 'high_tonal_atonal_probability': 0.989878535271,\n",
       " 'high_voice_instrumental_value': 'instrumental',\n",
       " 'high_voice_instrumental_probability': 0.96695035696,\n",
       " 'low_average_loudness': 0.896201252937,\n",
       " 'low_dynamic_complexity': 4.69680070877,\n",
       " 'low_mfcc_mean_0': -712.144165039,\n",
       " 'low_mfcc_mean_1': 186.787368774,\n",
       " 'low_mfcc_mean_2': 1.95065867901,\n",
       " 'low_mfcc_mean_3': 16.5536136627,\n",
       " 'low_mfcc_mean_4': 13.3152933121,\n",
       " 'low_mfcc_mean_5': 12.7711572647,\n",
       " 'low_mfcc_mean_6': 3.28167414665,\n",
       " 'low_mfcc_mean_7': 1.26275956631,\n",
       " 'low_mfcc_mean_8': 0.00686752051115,\n",
       " 'low_mfcc_mean_9': 0.587914168835,\n",
       " 'low_mfcc_mean_10': -1.69889986515,\n",
       " 'low_mfcc_mean_11': -1.28510379791,\n",
       " 'low_mfcc_mean_12': -2.21250867844,\n",
       " 'audio_sample_rate': 44100.0,\n",
       " 'audio_codec': 'flac',\n",
       " 'audio_bit_rate': 0,\n",
       " 'audio_equal_loudness': 0.0,\n",
       " 'audio_analysis_sample_rate': 44100.0,\n",
       " 'audio_length': 368.706665039,\n",
       " 'audio_md5_encoded': '176703b0bed25cfb21e25c21a6b113a3',\n",
       " 'audio_replay_gain': -13.7531890869,\n",
       " 'audio_downmix': 'mix',\n",
       " 'audio_lossless': True,\n",
       " 'low_key_key': 'A#',\n",
       " 'low_key_scale': 'major',\n",
       " 'low_key_strength': 0.661644518375,\n",
       " 'low_chords_scale': 'minor',\n",
       " 'low_chords_changes_rate': 0.0350081846118,\n",
       " 'low_chords_key': 'G',\n",
       " 'low_chords_number_rate': 0.00100742978975,\n",
       " 'low_tuning_nontempered_energy_ratio': 0.96498978138,\n",
       " 'low_tuning_frequency': 434.193115234,\n",
       " 'low_tuning_diatonic_strength': 0.507639348507,\n",
       " 'low_tuning_equal_tempered_deviation': 0.215137332678,\n",
       " 'low_danceability': 1.05015945435,\n",
       " 'low_onset_rate': 4.16846036911,\n",
       " 'low_bpm': 94.039604187,\n",
       " 'low_beats_count': 588.0}"
      ]
     },
     "execution_count": 6,
     "metadata": {},
     "output_type": "execute_result"
    }
   ],
   "source": [
    "prueba"
   ]
  },
  {
   "cell_type": "code",
   "execution_count": 3,
   "id": "9de79a91",
   "metadata": {},
   "outputs": [],
   "source": [
    "entrada = {\n",
    "\"genre\": \"rock\",\n",
    "\"duration_ms\": 253974,\n",
    "\"high_danceability_value\": \"not_danceable\",\n",
    "\"high_danceability_probability\": 0.5838052034378052,\n",
    "\"high_gender_value\": \"male\",\n",
    "\"high_gender_probability\": 0.5807787775993347,\n",
    "\"high_mood_acoustic_value\": \"non_acoustic\",\n",
    "\"high_mood_acoustic_probability\": 0.889371395111084,\n",
    "\"high_mood_aggressive_value\": \"aggressive\",\n",
    "\"high_mood_aggressive_probability\": 0.6102733612060547,\n",
    "\"high_mood_electronic_value\": \"electronic\",\n",
    "\"high_mood_electronic_probability\": 0.7434790134429932,\n",
    "\"high_mood_happy_value\": \"non_happy\",\n",
    "\"high_mood_happy_probability\": 0.9543348550796509,\n",
    "\"high_mood_party_value\": \"non_party\",\n",
    "\"high_mood_party_probability\": 0.8928609490394592,\n",
    "\"high_mood_relaxed_value\": \"relaxed\",\n",
    "\"high_mood_relaxed_probability\": 0.6134181022644043,\n",
    "\"high_mood_sad_value\": \"non_sad\",\n",
    "\"high_mood_sad_probability\": 0.7707998752593994,\n",
    "\"high_moods_mirex_value\": \"Cluster5\",\n",
    "\"high_moods_mirex_probability\": 0.6387696266174316,\n",
    "\"high_timbre_value\": \"bright\",\n",
    "\"high_timbre_probability\": 0.5203741788864136,\n",
    "\"high_tonal_atonal_value\": \"atonal\",\n",
    "\"high_tonal_atonal_probability\": 0.9881431460380554,\n",
    "\"high_voice_instrumental_value\": \"voice\",\n",
    "\"high_voice_instrumental_probability\": 0.5408473014831543,\n",
    "\"low_average_loudness\": 18.720955833591585,\n",
    "\"low_dynamic_complexity\": 0.0,\n",
    "\"low_mfcc_mean_0\": -605.623046875,\n",
    "\"low_mfcc_mean_1\": 148.2161865234375,\n",
    "\"low_mfcc_mean_2\": 1.0899323225021362,\n",
    "\"low_mfcc_mean_3\": 33.8800163269043,\n",
    "\"low_mfcc_mean_4\": 9.242630958557129,\n",
    "\"low_mfcc_mean_5\": 12.825408935546875,\n",
    "\"low_mfcc_mean_6\": -10.752599716186523,\n",
    "\"low_mfcc_mean_7\": 8.433829307556152,\n",
    "\"low_mfcc_mean_8\": -2.8856284618377686,\n",
    "\"low_mfcc_mean_9\": 1.9817363023757935,\n",
    "\"low_mfcc_mean_10\": 2.6789426803588867,\n",
    "\"low_mfcc_mean_11\": -0.10977625846862793,\n",
    "\"low_mfcc_mean_12\": -1.8002312183380127,\n",
    "\"audio_sample_rate\": 44100.0,\n",
    "\"audio_codec\": \"pcm_s24le\",\n",
    "\"audio_bit_rate\": 2116800,\n",
    "\"audio_equal_loudness\": 0.0,\n",
    "\"audio_analysis_sample_rate\": 44100.0,\n",
    "\"audio_length\": 253.97469387755103,\n",
    "\"audio_md5_encoded\": \"77792e8ef05b8a7a51989b4b494c2c2b\",\n",
    "\"audio_replay_gain\": -0.00042015998042188585,\n",
    "\"audio_downmix\": \"mix\",\n",
    "\"audio_lossless\": True,\n",
    "\"low_key_key\": \"E\",\n",
    "\"low_key_scale\": \"major\",\n",
    "\"low_key_strength\": 0.9335505962371826,\n",
    "\"low_chords_scale\": \"major\",\n",
    "\"low_chords_changes_rate\": 0.06544789671897888,\n",
    "\"low_chords_key\": \"A\",\n",
    "\"low_tuning_frequency\": 440.76312255859375,\n",
    "\"low_danceability\": 1.37296724319458,\n",
    "\"low_onset_rate\": 1.8227664232254028,\n",
    "\"low_bpm\": 129.63111877441406,\n",
    "\"low_beats_count\": 543\n",
    "}"
   ]
  },
  {
   "cell_type": "code",
   "execution_count": 4,
   "id": "55fbf085",
   "metadata": {},
   "outputs": [
    {
     "data": {
      "text/plain": [
       "64"
      ]
     },
     "execution_count": 4,
     "metadata": {},
     "output_type": "execute_result"
    }
   ],
   "source": [
    "len(entrada.keys())"
   ]
  },
  {
   "cell_type": "code",
   "execution_count": 8,
   "id": "efbf708d",
   "metadata": {},
   "outputs": [],
   "source": [
    "import requests\n",
    "\n",
    "url = 'https://recomendador-api-173219828681.us-central1.run.app/recomendar'\n",
    "headers = {\"Content-Type\": \"application/json\"}"
   ]
  },
  {
   "cell_type": "code",
   "execution_count": 9,
   "id": "7583cd54",
   "metadata": {},
   "outputs": [
    {
     "name": "stdout",
     "output_type": "stream",
     "text": [
      "CPU times: user 11.3 ms, sys: 6.01 ms, total: 17.3 ms\n",
      "Wall time: 1min 1s\n"
     ]
    },
    {
     "data": {
      "text/plain": [
       "200"
      ]
     },
     "execution_count": 9,
     "metadata": {},
     "output_type": "execute_result"
    }
   ],
   "source": [
    "%%time\n",
    "\n",
    "resultado = requests.post(url, json=entrada, headers=headers)\n",
    "resultado.status_code"
   ]
  },
  {
   "cell_type": "code",
   "execution_count": 9,
   "id": "a8924e53",
   "metadata": {},
   "outputs": [
    {
     "name": "stdout",
     "output_type": "stream",
     "text": [
      "{'recomendacion': 'Para mejorar tu canción electrónica y acercarla más a las características de las canciones más populares del género, te recomiendo lo siguiente:\\n\\n1. **Incrementar el BPM (tempo):** Tu canción tiene un BPM de 94.04, que es significativamente más bajo que el promedio de 122.93. Subir el tempo la hará más energética y adecuada para el género electronic, lo que puede aumentar su atractivo.\\n\\n2. **Ajustar la tasa de onset:** Actualmente está un poco por encima del promedio. Puedes experimentar con reducir ligeramente la cantidad de ataques o eventos rítmicos para que la canción tenga una sensación más equilibrada y no sobrecargada.\\n\\n3. **Mejorar la danceabilidad:** Tanto la danceabilidad como la probabilidad de danceabilidad están por debajo del promedio. Para ello, utiliza ritmos más marcados y grooves que inviten a moverse, además de simplificar o mejorar la coherencia rítmica para facilitar el baile.\\n\\n4. **Ajustar la complejidad dinámica y la sonoridad:** La dinámica es algo más compleja y la sonoridad es más alta que el promedio. Puedes suavizar un poco los cambios dinámicos y controlar el volumen para evitar que la canción suene demasiado saturada o agresiva, manteniendo un balance que favorezca la claridad.\\n\\n5. **Aumentar la tasa de cambios de acordes:** Tu canción tiene menos cambios de acordes que el promedio. Añadir más variaciones armónicas aportará interés y movimiento, haciendo la pista más atractiva para el oyente.\\n\\n6. **Trabajar los coeficientes MFCC:** Algunos MFCC están por encima y otros por debajo del promedio. En general, intenta equilibrar el espectro tímbrico usando diferentes texturas sonoras o efectos para acercarte a las características promedio, lo que puede mejorar la riqueza y el color del sonido.\\n\\n7. **Incrementar las probabilidades de mood acústico y triste:** La canción tiene probabilidades más bajas en estos aspectos. Puedes introducir elementos acústicos o melodías que transmitan emociones más melancólicas o introspectivas para enriquecer la atmósfera.\\n\\n8. **Ajustar los estados de ánimo agresivo, party y relajado:** Están por encima del promedio, lo que puede hacer que la canción se sienta muy intensa o saturada en estas emociones. Considera equilibrar estos moods para que no dominen demasiado, buscando mayor variedad y sutileza emocional.\\n\\nEn resumen, trabajar en un tempo más rápido, mejorar la danceabilidad y los cambios armónicos, equilibrar la dinámica y las texturas sonoras, y ajustar las emociones transmitidas, hará que tu canción electrónica se acerque más al estilo y atractivo de las más populares en el género.'}\n"
     ]
    }
   ],
   "source": [
    "print(resultado.json())"
   ]
  },
  {
   "cell_type": "code",
   "execution_count": 10,
   "id": "7a2eedb5",
   "metadata": {},
   "outputs": [
    {
     "name": "stdout",
     "output_type": "stream",
     "text": [
      "Para mejorar tu canción de rock y acercarla más al perfil de las canciones más populares del género, te recomiendo lo siguiente:\n",
      "\n",
      "1. Incrementa la tasa de ataques (low_onset_rate): Esto puede lograrse haciendo que los instrumentos, especialmente la batería y la guitarra, tengan más ataques claros y definidos. Considera agregar golpes más marcados o riffs con mayor percusión para aumentar la energía.\n",
      "\n",
      "2. Ajusta la bailabilidad (low_danceability): Actualmente es un poco más alta que el promedio, por lo que podrías simplificar o moderar el ritmo para que sea ligeramente menos bailable, manteniendo el carácter rockero.\n",
      "\n",
      "3. Incrementa la complejidad dinámica (low_dynamic_complexity): Añade variaciones en volumen, intensidad y expresión a lo largo de la canción para hacerla más interesante. Juega con cambios de dinámica en secciones o con efectos que varíen la textura sonora.\n",
      "\n",
      "4. Ajusta el volumen promedio (low_average_loudness): Tu canción es más alta que el promedio, por lo que bajarla un poco puede ayudar a que los detalles sean más claros y no genere fatiga auditiva.\n",
      "\n",
      "5. Incrementa la probabilidad de bailabilidad alta (high_danceability_probability): Trabaja en un ritmo más marcado y groove consistente que invite al movimiento, sin perder la esencia rock.\n",
      "\n",
      "6. Ajusta la fuerza tonal (low_key_strength): Está más alta que el promedio, podrías suavizar un poco la claridad tonal para que la canción tenga un ambiente más natural y menos rígido.\n",
      "\n",
      "7. Ajusta los coeficientes MFCC (low_mfcc_mean_0 a low_mfcc_mean_11): Muchos están por encima del promedio, con algunos por debajo. Esto indica que el timbre y las características sonoras pueden ser refinadas. Trabaja en la ecualización para equilibrar frecuencias medias y altas, optimizando la textura sonora para que sea más típica del rock popular.\n",
      "\n",
      "8. Incrementa la probabilidad de un mood agresivo alto (high_mood_aggressive_probability): Dado que está por debajo del promedio, agrega más energía y actitud agresiva a la interpretación vocal o instrumental, por ejemplo, riffs más duros, voces más intensas o percusión más contundente.\n",
      "\n",
      "9. Ajusta los moods felices y de fiesta (high_mood_happy_probability y high_mood_party_probability): Están un poco por encima, podrías bajar ligeramente estos elementos para no perder la identidad rock y equilibrar la emoción.\n",
      "\n",
      "10. Incrementa la probabilidad de mood relajado alto (high_mood_relaxed_probability): Añade momentos o pasajes más calmados o atmosféricos para equilibrar la agresividad y dar variedad emocional.\n",
      "\n",
      "En resumen, busca aumentar la energía y agresividad del tema con ataques más definidos y dinámica variada, mientras moderas un poco la bailabilidad y el volumen para que sea más equilibrada y fiel al estilo rock popular. Ajusta el timbre con ecualización para lograr un sonido más característico del género y juega con emociones para tener un buen balance entre agresividad y momentos relajados.\n"
     ]
    }
   ],
   "source": [
    "print(resultado.json()['recomendacion'])"
   ]
  },
  {
   "cell_type": "code",
   "execution_count": 5,
   "id": "46dace8f",
   "metadata": {},
   "outputs": [
    {
     "name": "stdout",
     "output_type": "stream",
     "text": [
      "genre: str\n",
      "duration_ms: int\n",
      "high_danceability_value: str\n",
      "high_danceability_probability: float\n",
      "high_gender_value: str\n",
      "high_gender_probability: float\n",
      "high_mood_acoustic_value: str\n",
      "high_mood_acoustic_probability: float\n",
      "high_mood_aggressive_value: str\n",
      "high_mood_aggressive_probability: float\n",
      "high_mood_electronic_value: str\n",
      "high_mood_electronic_probability: float\n",
      "high_mood_happy_value: str\n",
      "high_mood_happy_probability: float\n",
      "high_mood_party_value: str\n",
      "high_mood_party_probability: float\n",
      "high_mood_relaxed_value: str\n",
      "high_mood_relaxed_probability: float\n",
      "high_mood_sad_value: str\n",
      "high_mood_sad_probability: float\n",
      "high_moods_mirex_value: str\n",
      "high_moods_mirex_probability: float\n",
      "high_timbre_value: str\n",
      "high_timbre_probability: float\n",
      "high_tonal_atonal_value: str\n",
      "high_tonal_atonal_probability: float\n",
      "high_voice_instrumental_value: str\n",
      "high_voice_instrumental_probability: float\n",
      "low_average_loudness: float\n",
      "low_dynamic_complexity: float\n",
      "low_mfcc_mean_0: float\n",
      "low_mfcc_mean_1: float\n",
      "low_mfcc_mean_2: float\n",
      "low_mfcc_mean_3: float\n",
      "low_mfcc_mean_4: float\n",
      "low_mfcc_mean_5: float\n",
      "low_mfcc_mean_6: float\n",
      "low_mfcc_mean_7: float\n",
      "low_mfcc_mean_8: float\n",
      "low_mfcc_mean_9: float\n",
      "low_mfcc_mean_10: float\n",
      "low_mfcc_mean_11: float\n",
      "low_mfcc_mean_12: float\n",
      "audio_sample_rate: float\n",
      "audio_codec: str\n",
      "audio_bit_rate: int\n",
      "audio_equal_loudness: float\n",
      "audio_analysis_sample_rate: float\n",
      "audio_length: float\n",
      "audio_md5_encoded: str\n",
      "audio_replay_gain: float\n",
      "audio_downmix: str\n",
      "audio_lossless: bool\n",
      "low_key_key: str\n",
      "low_key_scale: str\n",
      "low_key_strength: float\n",
      "low_chords_scale: str\n",
      "low_chords_changes_rate: float\n",
      "low_chords_key: str\n",
      "low_tuning_frequency: float\n",
      "low_danceability: float\n",
      "low_onset_rate: float\n",
      "low_bpm: float\n",
      "low_beats_count: int\n"
     ]
    }
   ],
   "source": [
    "for clave, valor in entrada.items():\n",
    "    print(f\"{clave}: {type(valor).__name__}\")"
   ]
  },
  {
   "cell_type": "code",
   "execution_count": 6,
   "id": "7e91d500",
   "metadata": {},
   "outputs": [],
   "source": [
    "ritmo_energia = [\n",
    "    'low_bpm', 'low_onset_rate', 'low_danceability',\n",
    "    'low_dynamic_complexity', 'low_average_loudness', 'high_danceability_probability'\n",
    "]\n",
    "tonalidad = [\n",
    "    'low_key_strength', 'low_chords_changes_rate'\n",
    "]\n",
    "mfccs = [f'low_mfcc_mean_{i}' for i in range(13)]\n",
    "moods = [\n",
    "    'high_mood_acoustic_probability',\n",
    "    'high_mood_aggressive_probability',\n",
    "    'high_mood_happy_probability',\n",
    "    'high_mood_party_probability',\n",
    "    'high_mood_relaxed_probability',\n",
    "    'high_mood_sad_probability'\n",
    "]\n",
    "columnas = ['genre'] + ritmo_energia + tonalidad + mfccs + moods"
   ]
  },
  {
   "cell_type": "code",
   "execution_count": 7,
   "id": "8d5ff59f",
   "metadata": {},
   "outputs": [
    {
     "name": "stdout",
     "output_type": "stream",
     "text": [
      "✅ genre\n",
      "✅ low_bpm\n",
      "✅ low_onset_rate\n",
      "✅ low_danceability\n",
      "✅ low_dynamic_complexity\n",
      "✅ low_average_loudness\n",
      "✅ high_danceability_probability\n",
      "✅ low_key_strength\n",
      "✅ low_chords_changes_rate\n",
      "✅ low_mfcc_mean_0\n",
      "✅ low_mfcc_mean_1\n",
      "✅ low_mfcc_mean_2\n",
      "✅ low_mfcc_mean_3\n",
      "✅ low_mfcc_mean_4\n",
      "✅ low_mfcc_mean_5\n",
      "✅ low_mfcc_mean_6\n",
      "✅ low_mfcc_mean_7\n",
      "✅ low_mfcc_mean_8\n",
      "✅ low_mfcc_mean_9\n",
      "✅ low_mfcc_mean_10\n",
      "✅ low_mfcc_mean_11\n",
      "✅ low_mfcc_mean_12\n",
      "✅ high_mood_acoustic_probability\n",
      "✅ high_mood_aggressive_probability\n",
      "✅ high_mood_happy_probability\n",
      "✅ high_mood_party_probability\n",
      "✅ high_mood_relaxed_probability\n",
      "✅ high_mood_sad_probability\n"
     ]
    }
   ],
   "source": [
    "for columna in columnas:\n",
    "    if columna in entrada.keys():\n",
    "        print(f\"✅ {columna}\")\n",
    "    else:\n",
    "        print(f\"❌ {columna}\")"
   ]
  }
 ],
 "metadata": {
  "kernelspec": {
   "display_name": "Hitanalyzer",
   "language": "python",
   "name": "python3"
  },
  "language_info": {
   "codemirror_mode": {
    "name": "ipython",
    "version": 3
   },
   "file_extension": ".py",
   "mimetype": "text/x-python",
   "name": "python",
   "nbconvert_exporter": "python",
   "pygments_lexer": "ipython3",
   "version": "3.10.6"
  }
 },
 "nbformat": 4,
 "nbformat_minor": 5
}
