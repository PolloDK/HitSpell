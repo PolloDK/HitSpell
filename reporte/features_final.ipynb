{
 "cells": [
  {
   "cell_type": "code",
   "execution_count": null,
   "id": "3bd6ca86",
   "metadata": {},
   "outputs": [],
   "source": [
    "import pandas as pd\n",
    "import numpy as np\n",
    "import os\n",
    "from openai import OpenAI\n",
    "from dotenv import load_dotenv"
   ]
  },
  {
   "cell_type": "code",
   "execution_count": 2,
   "id": "7a322505",
   "metadata": {},
   "outputs": [],
   "source": [
    "load_dotenv()\n",
    "%matplotlib inline\n",
    "client = OpenAI(api_key = os.getenv(\"OPENAI_API_KEY\"))"
   ]
  },
  {
   "cell_type": "code",
   "execution_count": 3,
   "id": "395ca839",
   "metadata": {},
   "outputs": [],
   "source": [
    "df = pd.read_csv('features_full_final.csv')"
   ]
  },
  {
   "cell_type": "code",
   "execution_count": 4,
   "id": "aeac1bf2",
   "metadata": {},
   "outputs": [
    {
     "data": {
      "text/plain": [
       "Index(['mbid', 'title', 'artist', 'genre', 'year', 'duration_ms',\n",
       "       'high_danceability_value', 'high_danceability_probability',\n",
       "       'high_gender_value', 'high_gender_probability',\n",
       "       'high_genre_dortmund_value', 'high_genre_dortmund_probability',\n",
       "       'high_genre_electronic_value', 'high_genre_electronic_probability',\n",
       "       'high_genre_rosamerica_value', 'high_genre_rosamerica_probability',\n",
       "       'high_genre_tzanetakis_value', 'high_genre_tzanetakis_probability',\n",
       "       'high_ismir04_rhythm_value', 'high_ismir04_rhythm_probability',\n",
       "       'high_mood_acoustic_value', 'high_mood_acoustic_probability',\n",
       "       'high_mood_aggressive_value', 'high_mood_aggressive_probability',\n",
       "       'high_mood_electronic_value', 'high_mood_electronic_probability',\n",
       "       'high_mood_happy_value', 'high_mood_happy_probability',\n",
       "       'high_mood_party_value', 'high_mood_party_probability',\n",
       "       'high_mood_relaxed_value', 'high_mood_relaxed_probability',\n",
       "       'high_mood_sad_value', 'high_mood_sad_probability',\n",
       "       'high_moods_mirex_value', 'high_moods_mirex_probability',\n",
       "       'high_timbre_value', 'high_timbre_probability',\n",
       "       'high_tonal_atonal_value', 'high_tonal_atonal_probability',\n",
       "       'high_voice_instrumental_value', 'high_voice_instrumental_probability',\n",
       "       'low_average_loudness', 'low_dynamic_complexity', 'low_mfcc_mean_0',\n",
       "       'low_mfcc_mean_1', 'low_mfcc_mean_2', 'low_mfcc_mean_3',\n",
       "       'low_mfcc_mean_4', 'low_mfcc_mean_5', 'low_mfcc_mean_6',\n",
       "       'low_mfcc_mean_7', 'low_mfcc_mean_8', 'low_mfcc_mean_9',\n",
       "       'low_mfcc_mean_10', 'low_mfcc_mean_11', 'low_mfcc_mean_12',\n",
       "       'audio_sample_rate', 'audio_codec', 'audio_bit_rate',\n",
       "       'audio_equal_loudness', 'audio_analysis_sample_rate', 'audio_length',\n",
       "       'audio_md5_encoded', 'audio_replay_gain', 'audio_downmix',\n",
       "       'audio_lossless', 'low_key_key', 'low_key_scale', 'low_key_strength',\n",
       "       'low_chords_scale', 'low_chords_changes_rate', 'low_chords_key',\n",
       "       'low_chords_number_rate', 'low_tuning_nontempered_energy_ratio',\n",
       "       'low_tuning_frequency', 'low_tuning_diatonic_strength',\n",
       "       'low_tuning_equal_tempered_deviation', 'low_danceability',\n",
       "       'low_onset_rate', 'low_bpm', 'low_beats_count'],\n",
       "      dtype='object')"
      ]
     },
     "execution_count": 4,
     "metadata": {},
     "output_type": "execute_result"
    }
   ],
   "source": [
    "df.columns"
   ]
  },
  {
   "cell_type": "code",
   "execution_count": 5,
   "id": "9f8d48a6",
   "metadata": {},
   "outputs": [],
   "source": [
    "def filtrar_features(df:pd.DataFrame):\n",
    "    ritmo_energia = [\n",
    "        'low_bpm', 'low_onset_rate', 'low_danceability',\n",
    "        'low_dynamic_complexity', 'low_average_loudness'\n",
    "    ]\n",
    "    tonalidad = [\n",
    "        'low_key_strength', 'low_chords_changes_rate', 'low_chords_number_rate'\n",
    "    ]\n",
    "    mfccs = [f'low_mfcc_mean_{i}' for i in range(13)]\n",
    "    moods = [\n",
    "        'high_mood_acoustic_probability',\n",
    "        'high_mood_aggressive_probability',\n",
    "        'high_mood_electronic_probability',\n",
    "        'high_mood_happy_probability',\n",
    "        'high_mood_party_probability',\n",
    "        'high_mood_relaxed_probability',\n",
    "        'high_mood_sad_probability'\n",
    "    ]\n",
    "    columnas = ['genre'] + ritmo_energia + tonalidad + mfccs + moods\n",
    "    return df[columnas].copy()"
   ]
  },
  {
   "cell_type": "code",
   "execution_count": 6,
   "id": "b58428a8",
   "metadata": {},
   "outputs": [],
   "source": [
    "datos = filtrar_features(df)"
   ]
  },
  {
   "cell_type": "code",
   "execution_count": 7,
   "id": "6ff0b07e",
   "metadata": {},
   "outputs": [
    {
     "data": {
      "text/plain": [
       "(111956, 29)"
      ]
     },
     "execution_count": 7,
     "metadata": {},
     "output_type": "execute_result"
    }
   ],
   "source": [
    "datos.shape"
   ]
  },
  {
   "cell_type": "code",
   "execution_count": 8,
   "id": "90ecbd45",
   "metadata": {},
   "outputs": [
    {
     "name": "stdout",
     "output_type": "stream",
     "text": [
      "<class 'pandas.core.frame.DataFrame'>\n",
      "RangeIndex: 111956 entries, 0 to 111955\n",
      "Data columns (total 29 columns):\n",
      " #   Column                            Non-Null Count   Dtype  \n",
      "---  ------                            --------------   -----  \n",
      " 0   genre                             111956 non-null  object \n",
      " 1   low_bpm                           111955 non-null  float64\n",
      " 2   low_onset_rate                    111955 non-null  float64\n",
      " 3   low_danceability                  111955 non-null  float64\n",
      " 4   low_dynamic_complexity            111956 non-null  float64\n",
      " 5   low_average_loudness              111956 non-null  float64\n",
      " 6   low_key_strength                  111899 non-null  float64\n",
      " 7   low_chords_changes_rate           111955 non-null  float64\n",
      " 8   low_chords_number_rate            111955 non-null  float64\n",
      " 9   low_mfcc_mean_0                   111956 non-null  float64\n",
      " 10  low_mfcc_mean_1                   111956 non-null  float64\n",
      " 11  low_mfcc_mean_2                   111956 non-null  float64\n",
      " 12  low_mfcc_mean_3                   111956 non-null  float64\n",
      " 13  low_mfcc_mean_4                   111956 non-null  float64\n",
      " 14  low_mfcc_mean_5                   111956 non-null  float64\n",
      " 15  low_mfcc_mean_6                   111956 non-null  float64\n",
      " 16  low_mfcc_mean_7                   111956 non-null  float64\n",
      " 17  low_mfcc_mean_8                   111956 non-null  float64\n",
      " 18  low_mfcc_mean_9                   111956 non-null  float64\n",
      " 19  low_mfcc_mean_10                  111956 non-null  float64\n",
      " 20  low_mfcc_mean_11                  111956 non-null  float64\n",
      " 21  low_mfcc_mean_12                  111956 non-null  float64\n",
      " 22  high_mood_acoustic_probability    111753 non-null  float64\n",
      " 23  high_mood_aggressive_probability  111753 non-null  float64\n",
      " 24  high_mood_electronic_probability  111753 non-null  float64\n",
      " 25  high_mood_happy_probability       111753 non-null  float64\n",
      " 26  high_mood_party_probability       111753 non-null  float64\n",
      " 27  high_mood_relaxed_probability     111753 non-null  float64\n",
      " 28  high_mood_sad_probability         111753 non-null  float64\n",
      "dtypes: float64(28), object(1)\n",
      "memory usage: 24.8+ MB\n"
     ]
    }
   ],
   "source": [
    "datos.info()"
   ]
  },
  {
   "cell_type": "code",
   "execution_count": 9,
   "id": "a2290f70",
   "metadata": {},
   "outputs": [
    {
     "data": {
      "text/plain": [
       "(111752, 29)"
      ]
     },
     "execution_count": 9,
     "metadata": {},
     "output_type": "execute_result"
    }
   ],
   "source": [
    "datos.dropna(inplace=True)\n",
    "datos.shape"
   ]
  },
  {
   "cell_type": "code",
   "execution_count": 10,
   "id": "dfb0c2d6",
   "metadata": {},
   "outputs": [],
   "source": [
    "def promedio_genero(df_filtrado, genero):\n",
    "    return df_filtrado[df_filtrado['genre'] == genero].mean(numeric_only=True)"
   ]
  },
  {
   "cell_type": "code",
   "execution_count": 11,
   "id": "c6056975",
   "metadata": {},
   "outputs": [
    {
     "data": {
      "text/plain": [
       "low_bpm                             126.046423\n",
       "low_onset_rate                        3.222548\n",
       "low_danceability                      1.117270\n",
       "low_dynamic_complexity                3.838504\n",
       "low_average_loudness                  0.799274\n",
       "low_key_strength                      0.706085\n",
       "low_chords_changes_rate               0.062181\n",
       "low_chords_number_rate                0.002559\n",
       "low_mfcc_mean_0                    -669.521063\n",
       "low_mfcc_mean_1                     131.665669\n",
       "low_mfcc_mean_2                      -2.986507\n",
       "low_mfcc_mean_3                      25.324911\n",
       "low_mfcc_mean_4                       4.910339\n",
       "low_mfcc_mean_5                       5.981352\n",
       "low_mfcc_mean_6                       0.229045\n",
       "low_mfcc_mean_7                       3.361125\n",
       "low_mfcc_mean_8                      -0.777716\n",
       "low_mfcc_mean_9                       1.304612\n",
       "low_mfcc_mean_10                     -1.822891\n",
       "low_mfcc_mean_11                     -0.659284\n",
       "low_mfcc_mean_12                     -1.810811\n",
       "high_mood_acoustic_probability        0.876070\n",
       "high_mood_aggressive_probability      0.885548\n",
       "high_mood_electronic_probability      0.769102\n",
       "high_mood_happy_probability           0.758487\n",
       "high_mood_party_probability           0.794144\n",
       "high_mood_relaxed_probability         0.821439\n",
       "high_mood_sad_probability             0.754599\n",
       "dtype: float64"
      ]
     },
     "execution_count": 11,
     "metadata": {},
     "output_type": "execute_result"
    }
   ],
   "source": [
    "promedio_genero(datos, 'rock')"
   ]
  },
  {
   "cell_type": "code",
   "execution_count": 12,
   "id": "e619414b",
   "metadata": {},
   "outputs": [],
   "source": [
    "def comparar_cancion_con_promedio(nueva_cancion:pd.Series, promedio_genero:pd.Series) -> dict:\n",
    "    nueva_cancion.drop(['genre'], inplace=True)\n",
    "    diferencias = {}\n",
    "    for feature in nueva_cancion.index:\n",
    "        valor_actual = nueva_cancion[feature]\n",
    "        valor_referencia = promedio_genero[feature]\n",
    "        diferencias[feature] = round(float(valor_actual-valor_referencia),3)\n",
    "    return diferencias"
   ]
  },
  {
   "cell_type": "code",
   "execution_count": 13,
   "id": "3056a68f",
   "metadata": {},
   "outputs": [],
   "source": [
    "nueva_cancion = filtrar_features(df.iloc[123])"
   ]
  },
  {
   "cell_type": "code",
   "execution_count": 14,
   "id": "8cfe678d",
   "metadata": {},
   "outputs": [
    {
     "data": {
      "text/plain": [
       "'rock'"
      ]
     },
     "execution_count": 14,
     "metadata": {},
     "output_type": "execute_result"
    }
   ],
   "source": [
    "genero = nueva_cancion['genre']\n",
    "genero"
   ]
  },
  {
   "cell_type": "code",
   "execution_count": 15,
   "id": "0230d098",
   "metadata": {},
   "outputs": [],
   "source": [
    "promedios = promedio_genero(datos, nueva_cancion['genre'])"
   ]
  },
  {
   "cell_type": "code",
   "execution_count": 16,
   "id": "f68fca9a",
   "metadata": {},
   "outputs": [],
   "source": [
    "diferencias = comparar_cancion_con_promedio(nueva_cancion,promedios)"
   ]
  },
  {
   "cell_type": "code",
   "execution_count": 17,
   "id": "2dd39ebb",
   "metadata": {},
   "outputs": [
    {
     "data": {
      "text/plain": [
       "{'low_bpm': -14.189,\n",
       " 'low_onset_rate': -0.152,\n",
       " 'low_danceability': 0.064,\n",
       " 'low_dynamic_complexity': 0.085,\n",
       " 'low_average_loudness': 0.124,\n",
       " 'low_key_strength': 0.042,\n",
       " 'low_chords_changes_rate': 0.004,\n",
       " 'low_chords_number_rate': -0.0,\n",
       " 'low_mfcc_mean_0': 1.02,\n",
       " 'low_mfcc_mean_1': -24.764,\n",
       " 'low_mfcc_mean_2': 23.814,\n",
       " 'low_mfcc_mean_3': 7.773,\n",
       " 'low_mfcc_mean_4': 8.52,\n",
       " 'low_mfcc_mean_5': 1.696,\n",
       " 'low_mfcc_mean_6': 3.59,\n",
       " 'low_mfcc_mean_7': -3.046,\n",
       " 'low_mfcc_mean_8': 0.01,\n",
       " 'low_mfcc_mean_9': 0.331,\n",
       " 'low_mfcc_mean_10': -5.199,\n",
       " 'low_mfcc_mean_11': -0.682,\n",
       " 'low_mfcc_mean_12': -3.176,\n",
       " 'high_mood_acoustic_probability': 0.002,\n",
       " 'high_mood_aggressive_probability': 0.108,\n",
       " 'high_mood_electronic_probability': -0.177,\n",
       " 'high_mood_happy_probability': -0.205,\n",
       " 'high_mood_party_probability': -0.031,\n",
       " 'high_mood_relaxed_probability': -0.252,\n",
       " 'high_mood_sad_probability': -0.11}"
      ]
     },
     "execution_count": 17,
     "metadata": {},
     "output_type": "execute_result"
    }
   ],
   "source": [
    "diferencias"
   ]
  },
  {
   "cell_type": "code",
   "execution_count": 34,
   "id": "7cb35a6e",
   "metadata": {},
   "outputs": [],
   "source": [
    "def generar_prompt(genero, diferencias, nueva_cancion, promedio_genero, porcentaje_umbral=0.05):\n",
    "    sugerencias = []\n",
    "\n",
    "    for feature, diferencia in diferencias.items():\n",
    "        val_actual = nueva_cancion[feature]\n",
    "        val_prom = promedio_genero[feature]\n",
    "\n",
    "        umbral = abs(val_prom * porcentaje_umbral) if val_prom != 0 else porcentaje_umbral\n",
    "\n",
    "        if abs(diferencia) > umbral:\n",
    "            if diferencia < 0:\n",
    "                sugerencias.append(\n",
    "                    f\"- '{feature}': el valor actual es {val_actual:.2f}, mientras que el promedio del género es {val_prom:.2f}. Está por debajo del promedio; podrías intentar incrementarlo.\")\n",
    "            else:\n",
    "                sugerencias.append(\n",
    "                    f\"- '{feature}': el valor actual es {val_actual:.2f}, mientras que el promedio del género es {val_prom:.2f}. Está por encima del promedio; podrías ajustarlo.\")\n",
    "\n",
    "    if not sugerencias:\n",
    "        sugerencias.append(\"Los valores están bastante alineados con el promedio del género.\")\n",
    "\n",
    "    prompt = f\"Tengo una canción del género {genero}. Estas son las diferencias respecto al promedio de las canciones más populares del mismo género:\\n\\n\"\n",
    "    prompt += \"\\n\".join(sugerencias)\n",
    "    prompt += \"\\n\\nDame recomendaciones musicales para mejorar esta canción\"\n",
    "    prompt += \"\\nLos nombres de las features vienen en inglés, pero la respuesta debe ser todo en castellano.\"\n",
    "\n",
    "    return prompt"
   ]
  },
  {
   "cell_type": "code",
   "execution_count": 35,
   "id": "d669f425",
   "metadata": {},
   "outputs": [],
   "source": [
    "promt = generar_prompt(genero, diferencias, nueva_cancion, promedios)"
   ]
  },
  {
   "cell_type": "code",
   "execution_count": 36,
   "id": "b6a484b9",
   "metadata": {},
   "outputs": [
    {
     "name": "stdout",
     "output_type": "stream",
     "text": [
      "Tengo una canción del género rock. Estas son las diferencias respecto al promedio de las canciones más populares del mismo género:\n",
      "\n",
      "- 'low_bpm': el valor actual es 111.86, mientras que el promedio del género es 126.05. Está por debajo del promedio; podrías intentar incrementarlo.\n",
      "- 'low_danceability': el valor actual es 1.18, mientras que el promedio del género es 1.12. Está por encima del promedio; podrías ajustarlo.\n",
      "- 'low_average_loudness': el valor actual es 0.92, mientras que el promedio del género es 0.80. Está por encima del promedio; podrías ajustarlo.\n",
      "- 'low_key_strength': el valor actual es 0.75, mientras que el promedio del género es 0.71. Está por encima del promedio; podrías ajustarlo.\n",
      "- 'low_chords_changes_rate': el valor actual es 0.07, mientras que el promedio del género es 0.06. Está por encima del promedio; podrías ajustarlo.\n",
      "- 'low_mfcc_mean_1': el valor actual es 106.90, mientras que el promedio del género es 131.67. Está por debajo del promedio; podrías intentar incrementarlo.\n",
      "- 'low_mfcc_mean_2': el valor actual es 20.83, mientras que el promedio del género es -2.99. Está por encima del promedio; podrías ajustarlo.\n",
      "- 'low_mfcc_mean_3': el valor actual es 33.10, mientras que el promedio del género es 25.32. Está por encima del promedio; podrías ajustarlo.\n",
      "- 'low_mfcc_mean_4': el valor actual es 13.43, mientras que el promedio del género es 4.91. Está por encima del promedio; podrías ajustarlo.\n",
      "- 'low_mfcc_mean_5': el valor actual es 7.68, mientras que el promedio del género es 5.98. Está por encima del promedio; podrías ajustarlo.\n",
      "- 'low_mfcc_mean_6': el valor actual es 3.82, mientras que el promedio del género es 0.23. Está por encima del promedio; podrías ajustarlo.\n",
      "- 'low_mfcc_mean_7': el valor actual es 0.32, mientras que el promedio del género es 3.36. Está por debajo del promedio; podrías intentar incrementarlo.\n",
      "- 'low_mfcc_mean_9': el valor actual es 1.64, mientras que el promedio del género es 1.30. Está por encima del promedio; podrías ajustarlo.\n",
      "- 'low_mfcc_mean_10': el valor actual es -7.02, mientras que el promedio del género es -1.82. Está por debajo del promedio; podrías intentar incrementarlo.\n",
      "- 'low_mfcc_mean_11': el valor actual es -1.34, mientras que el promedio del género es -0.66. Está por debajo del promedio; podrías intentar incrementarlo.\n",
      "- 'low_mfcc_mean_12': el valor actual es -4.99, mientras que el promedio del género es -1.81. Está por debajo del promedio; podrías intentar incrementarlo.\n",
      "- 'high_mood_aggressive_probability': el valor actual es 0.99, mientras que el promedio del género es 0.89. Está por encima del promedio; podrías ajustarlo.\n",
      "- 'high_mood_electronic_probability': el valor actual es 0.59, mientras que el promedio del género es 0.77. Está por debajo del promedio; podrías intentar incrementarlo.\n",
      "- 'high_mood_happy_probability': el valor actual es 0.55, mientras que el promedio del género es 0.76. Está por debajo del promedio; podrías intentar incrementarlo.\n",
      "- 'high_mood_relaxed_probability': el valor actual es 0.57, mientras que el promedio del género es 0.82. Está por debajo del promedio; podrías intentar incrementarlo.\n",
      "- 'high_mood_sad_probability': el valor actual es 0.64, mientras que el promedio del género es 0.75. Está por debajo del promedio; podrías intentar incrementarlo.\n",
      "\n",
      "Dame recomendaciones musicales para mejorar esta canción\n",
      "Los nombres de las features vienen en inglés, pero la respuesta debe ser todo en castellano.\n"
     ]
    }
   ],
   "source": [
    "print(promt)"
   ]
  },
  {
   "cell_type": "code",
   "execution_count": 31,
   "id": "3b2cd075",
   "metadata": {},
   "outputs": [],
   "source": [
    "def obtener_recomendacion(prompt):\n",
    "    response = client.chat.completions.create(\n",
    "        model='gpt-4.1-mini',\n",
    "        messages=[\n",
    "            {\"role\": \"system\", \"content\": \"Eres una app de música que brinda consejos claros y útiles sobre cómo mejorar una canción según sus características.\"},\n",
    "            {\"role\": \"user\", \"content\": prompt}\n",
    "        ],\n",
    "        temperature=0.7,\n",
    "        max_tokens=1000\n",
    "    )\n",
    "    return response.choices[0].message.content"
   ]
  },
  {
   "cell_type": "code",
   "execution_count": 37,
   "id": "c4edc0a2",
   "metadata": {},
   "outputs": [
    {
     "name": "stdout",
     "output_type": "stream",
     "text": [
      "Tiempo de ejecución: 6.60 segundos\n"
     ]
    }
   ],
   "source": [
    "import time\n",
    "\n",
    "inicio = time.time()\n",
    "recomendacion = obtener_recomendacion(promt)\n",
    "fin = time.time()\n",
    "\n",
    "print(f\"Tiempo de ejecución: {fin - inicio:.2f} segundos\")"
   ]
  },
  {
   "cell_type": "code",
   "execution_count": 38,
   "id": "c9ced937",
   "metadata": {},
   "outputs": [
    {
     "name": "stdout",
     "output_type": "stream",
     "text": [
      "Para mejorar tu canción de rock y acercarla más al perfil de las canciones más populares del género, aquí tienes algunas recomendaciones basadas en las diferencias que mencionas:\n",
      "\n",
      "1. **Incrementar el tempo (bpm)**: Actualmente está en 111.86 bpm, por debajo del promedio que es 126.05 bpm. Subir un poco el tempo puede darle más energía y dinamismo, típico del rock popular.\n",
      "\n",
      "2. **Ajustar la danceabilidad**: Tu valor es ligeramente superior al promedio. Puedes hacer pequeños ajustes para que la canción mantenga un ritmo que invite a moverse pero sin perder la esencia del rock.\n",
      "\n",
      "3. **Reducir la sonoridad promedio**: El valor de loudness está un poco alto; bajar ligeramente el volumen promedio o controlar mejor la dinámica puede hacer que la canción suene más equilibrada y profesional.\n",
      "\n",
      "4. **Ajustar la fuerza tonal (key strength)**: Está un poco por encima, podrías hacer que la tonalidad sea un poco más sutil para evitar que suene demasiado rígida.\n",
      "\n",
      "5. **Reducir la tasa de cambios de acordes**: Al estar un poco más alta que el promedio, podrías simplificar algunos cambios para hacer la canción más pegajosa y fácil de seguir.\n",
      "\n",
      "6. **Incrementar ciertos coeficientes MFCC**: Algunos MFCC importantes están por debajo del promedio (como el 1, 7, 10, 11 y 12), intenta ajustar la mezcla o la instrumentación para resaltar frecuencias relacionadas con esos coeficientes, lo que puede mejorar la riqueza tonal y la textura sonora.\n",
      "\n",
      "7. **Reducir otros coeficientes MFCC**: Algunos están más altos que el promedio (2, 3, 4, 5, 6, 9), podrías equilibrar el espectro de frecuencias para evitar que ciertas bandas sobresalgan demasiado.\n",
      "\n",
      "8. **Ajustar la agresividad**: La probabilidad de mood agresivo es alta; considera moderarla un poco para que la canción sea más accesible y no solo intensa.\n",
      "\n",
      "9. **Incrementar la presencia de mood electrónico, feliz, relajado y triste**: Estos están por debajo del promedio. Puedes añadir elementos que aporten un poco más de variedad emocional y texturas electrónicas sutiles para enriquecer la atmósfera y conectar mejor con el público.\n",
      "\n",
      "En resumen, subir el tempo, equilibrar la dinámica y la tonalidad, ajustar la complejidad armónica y pulir la mezcla para mejorar la riqueza tonal y la expresión emocional te ayudarán a que tu canción se acerque más a los estándares de las canciones de rock más populares.\n"
     ]
    }
   ],
   "source": [
    "print(recomendacion)"
   ]
  }
 ],
 "metadata": {
  "kernelspec": {
   "display_name": "Hitanalyzer",
   "language": "python",
   "name": "python3"
  },
  "language_info": {
   "codemirror_mode": {
    "name": "ipython",
    "version": 3
   },
   "file_extension": ".py",
   "mimetype": "text/x-python",
   "name": "python",
   "nbconvert_exporter": "python",
   "pygments_lexer": "ipython3",
   "version": "3.10.6"
  }
 },
 "nbformat": 4,
 "nbformat_minor": 5
}
